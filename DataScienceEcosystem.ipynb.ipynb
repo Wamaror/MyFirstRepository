{
 "cells": [
  {
   "cell_type": "markdown",
   "id": "ae1b284b-c1d0-4d80-ab19-3cb185eee4c7",
   "metadata": {},
   "source": [
    "# Data Science Tools and Ecosystem"
   ]
  },
  {
   "cell_type": "markdown",
   "id": "ddc42ffb-6159-4510-bc0a-6cc95205443b",
   "metadata": {},
   "source": [
    "In this notebook, Data Science Tools and Ecosystem are summarized."
   ]
  },
  {
   "cell_type": "markdown",
   "id": "d9b3e80c-fd17-4a4d-829a-3c378c78a269",
   "metadata": {},
   "source": [
    "**Objectives**\n",
    "- Learn different categories of tools in Data Science.\n",
    "- Become familiar with Open Source, Cloud-based, and Commercial options for data science tools.\n",
    "- List popular languages for Data Science"
   ]
  },
  {
   "cell_type": "markdown",
   "id": "177738c7-9c7d-453b-8ca5-dee873ef19b8",
   "metadata": {},
   "source": [
    "Some of the popular languages that Data Scientists use are:"
   ]
  },
  {
   "cell_type": "markdown",
   "id": "ba17f3f9-d551-4996-afa9-b04317e96bcb",
   "metadata": {},
   "source": [
    "1. R\n",
    "2. Python\n",
    "3. Java"
   ]
  },
  {
   "cell_type": "markdown",
   "id": "081c748e-1ecd-4a05-8b5d-de0f5115a4ef",
   "metadata": {},
   "source": [
    "Some of the commonly used libraries used by Data Scientists include:"
   ]
  },
  {
   "cell_type": "markdown",
   "id": "cf3237ff-e24b-49f5-a25c-b96489c998a4",
   "metadata": {},
   "source": [
    "1. TensorFlow\n",
    "2. Panda\n",
    "3. Numpy"
   ]
  },
  {
   "cell_type": "markdown",
   "id": "a10ba0e8-ff35-4917-82e2-74efdd7c8369",
   "metadata": {},
   "source": [
    "|Data Science Tools|\n",
    "|--------------------|\n",
    "|RStudio|\n",
    "|Apache Spark|\n",
    "|Tensor Flow|"
   ]
  },
  {
   "cell_type": "markdown",
   "id": "d33e93b4-98be-4746-8129-9aa7c6231cb5",
   "metadata": {},
   "source": [
    "### Below are a few examples of evaluating arithmetic expressions in Python"
   ]
  },
  {
   "cell_type": "markdown",
   "id": "872e0303-9280-4c3e-a586-390d39fe75eb",
   "metadata": {},
   "source": [
    "_This a simple arithmetic expression to mutiply then add integers_"
   ]
  },
  {
   "cell_type": "code",
   "execution_count": 2,
   "id": "4db5382a-47b3-4582-b91b-19a9394fa540",
   "metadata": {},
   "outputs": [
    {
     "data": {
      "text/plain": [
       "17"
      ]
     },
     "execution_count": 2,
     "metadata": {},
     "output_type": "execute_result"
    }
   ],
   "source": [
    "(3*4)+5"
   ]
  },
  {
   "cell_type": "markdown",
   "id": "332cf4a9-19e2-45eb-868a-cb42d85ca8e2",
   "metadata": {},
   "source": [
    "_This will convert 200 minutes to hours by diving by 60_"
   ]
  },
  {
   "cell_type": "code",
   "execution_count": 4,
   "id": "642ebd98-bfcc-42db-9f48-28ed19821f9a",
   "metadata": {},
   "outputs": [
    {
     "data": {
      "text/plain": [
       "3.3333333333333335"
      ]
     },
     "execution_count": 4,
     "metadata": {},
     "output_type": "execute_result"
    }
   ],
   "source": [
    "200/60"
   ]
  },
  {
   "cell_type": "markdown",
   "id": "f68e8957-1985-4c8f-bbdc-f948770b9dc4",
   "metadata": {},
   "source": [
    "\n",
    "\n",
    "\n",
    "\n",
    "## Author\n",
    "Williams Amaro"
   ]
  },
  {
   "cell_type": "code",
   "execution_count": null,
   "id": "ead7a1f4-d5d2-4440-a28b-ea692b047242",
   "metadata": {},
   "outputs": [],
   "source": []
  }
 ],
 "metadata": {
  "kernelspec": {
   "display_name": "Python 3 (ipykernel)",
   "language": "python",
   "name": "python3"
  },
  "language_info": {
   "codemirror_mode": {
    "name": "ipython",
    "version": 3
   },
   "file_extension": ".py",
   "mimetype": "text/x-python",
   "name": "python",
   "nbconvert_exporter": "python",
   "pygments_lexer": "ipython3",
   "version": "3.10.9"
  }
 },
 "nbformat": 4,
 "nbformat_minor": 5
}
